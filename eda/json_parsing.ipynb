{
 "cells": [
  {
   "cell_type": "code",
   "execution_count": 1,
   "id": "d9787c91",
   "metadata": {},
   "outputs": [],
   "source": [
    "import pandas as pd\n",
    "import numpy as np\n",
    "from rdkit import Chem"
   ]
  },
  {
   "cell_type": "code",
   "execution_count": 2,
   "id": "a5bfa151",
   "metadata": {},
   "outputs": [],
   "source": [
    "filepath = \"/home/ctomlin/personal/mass-spec-prediction/datasets/MoNA-export-Experimental_Spectra-json/MoNA-export-Experimental_Spectra.json\""
   ]
  },
  {
   "cell_type": "code",
   "execution_count": null,
   "id": "f0db546f",
   "metadata": {},
   "outputs": [
    {
     "name": "stdout",
     "output_type": "stream",
     "text": [
      "Written chunk 1 with 25000 items\n",
      "Written chunk 2 with 25000 items\n",
      "Written chunk 3 with 25000 items\n",
      "Written chunk 4 with 25000 items\n",
      "Written chunk 5 with 25000 items\n",
      "Written chunk 6 with 25000 items\n",
      "Written chunk 7 with 25000 items\n",
      "Written chunk 8 with 25000 items\n",
      "Written chunk 9 with 25000 items\n",
      "Written final chunk 10 with 10785 items\n"
     ]
    }
   ],
   "source": [
    "import os\n",
    "import json\n",
    "import ijson\n",
    "\n",
    "output_dir = '/home/ctomlin/personal/mass-spec-prediction/datasets/split_files'\n",
    "\n",
    "from decimal import Decimal\n",
    "\n",
    "def convert(var):\n",
    "    if isinstance(var, Decimal):\n",
    "        return float(var)\n",
    "    elif isinstance(var, dict):\n",
    "        return {key: convert(val) for key, val in var.items()}\n",
    "    elif isinstance(var, list):\n",
    "        return [convert(x) for x in var]\n",
    "    else:\n",
    "        return var\n",
    "\n",
    "def json_splitting_streaming(filepath, output_dir, chunk_size):\n",
    "    if not os.path.exists(output_dir):\n",
    "        os.makedirs(output_dir, exist_ok=True)\n",
    "    \n",
    "    chunk = []\n",
    "    chunk_count = 0\n",
    "    \n",
    "    with open(filepath, 'rb') as json_file:\n",
    "        parser = ijson.items(json_file, 'item')\n",
    "        \n",
    "        for item in parser:\n",
    "            item = convert(item)\n",
    "            chunk.append(item)\n",
    "            \n",
    "            if len(chunk) >= chunk_size:\n",
    "                output_filename = os.path.join(output_dir, f'MoNA_{chunk_count + 1}.json')\n",
    "                with open(output_filename, 'w') as outfile:\n",
    "                    json.dump(chunk, outfile, indent=4, ensure_ascii=False)\n",
    "                \n",
    "                print(f\"Written chunk {chunk_count + 1} with {len(chunk)} items\")\n",
    "                chunk = []\n",
    "                chunk_count += 1\n",
    "    \n",
    "    if chunk:\n",
    "        output_filename = os.path.join(output_dir, f'MoNA_{chunk_count + 1}.json')\n",
    "        with open(output_filename, 'w') as outfile:\n",
    "            json.dump(chunk, outfile, indent=4, ensure_ascii=False)\n",
    "        print(f\"Written chunk {chunk_count + 1} with {len(chunk)} items\")\n",
    "\n",
    "json_splitting_streaming(filepath, output_dir, 25000)"
   ]
  },
  {
   "cell_type": "code",
   "execution_count": 7,
   "id": "2ac1f32e",
   "metadata": {},
   "outputs": [],
   "source": [
    "mona1 = '/home/ctomlin/personal/mass-spec-prediction/datasets/split_files/MoNA_1.json'"
   ]
  },
  {
   "cell_type": "code",
   "execution_count": 8,
   "id": "29ff5f17",
   "metadata": {},
   "outputs": [
    {
     "ename": "",
     "evalue": "",
     "output_type": "error",
     "traceback": [
      "\u001b[1;31mThe Kernel crashed while executing code in the current cell or a previous cell. \n",
      "\u001b[1;31mPlease review the code in the cell(s) to identify a possible cause of the failure. \n",
      "\u001b[1;31mClick <a href='https://aka.ms/vscodeJupyterKernelCrash'>here</a> for more info. \n",
      "\u001b[1;31mView Jupyter <a href='command:jupyter.viewOutput'>log</a> for further details."
     ]
    }
   ],
   "source": [
    "rows = []\n",
    "with open(filepath, \"rb\") as f:\n",
    "    for obj in ijson.items(f, \"item\"):  # iterate over array elements\n",
    "        rows.append(obj)\n",
    "\n",
    "df = pd.DataFrame(rows)"
   ]
  },
  {
   "cell_type": "code",
   "execution_count": null,
   "id": "7f4ef082",
   "metadata": {},
   "outputs": [],
   "source": [
    "df.head()"
   ]
  },
  {
   "cell_type": "code",
   "execution_count": null,
   "id": "a2c0b1e9",
   "metadata": {},
   "outputs": [],
   "source": []
  }
 ],
 "metadata": {
  "kernelspec": {
   "display_name": "mass-spec",
   "language": "python",
   "name": "python3"
  },
  "language_info": {
   "codemirror_mode": {
    "name": "ipython",
    "version": 3
   },
   "file_extension": ".py",
   "mimetype": "text/x-python",
   "name": "python",
   "nbconvert_exporter": "python",
   "pygments_lexer": "ipython3",
   "version": "3.12.11"
  }
 },
 "nbformat": 4,
 "nbformat_minor": 5
}
